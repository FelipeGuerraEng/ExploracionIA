{
 "cells": [
  {
   "cell_type": "code",
   "execution_count": 3,
   "metadata": {},
   "outputs": [],
   "source": [
    "from azure.identity import DefaultAzureCredential\n",
    "from azure.storage.blob import BlobServiceClient\n",
    "import pandas as pd\n",
    "\n",
    "# Autenticación con Azure AD\n",
    "credential = DefaultAzureCredential()\n",
    "\n",
    "account_url = \"https://datalakecomfama.blob.core.windows.net\"\n",
    "blob_service_client = BlobServiceClient(account_url, credential=credential)\n",
    "\n",
    "# Acceder al contenedor y listar blobs\n",
    "container_client = blob_service_client.get_container_client(\"bronze\")\n",
    "blobs = container_client.list_blobs()\n",
    "\n",
    "total_files_count = sum(1 for blob in blobs)\n",
    "\n",
    "print(f\"Total de archivos en el contenedor: {total_files_count}\")\n",
    "\n",
    "#for blob in blobs:\n",
    "    #print(blob.name)\n"
   ]
  },
  {
   "cell_type": "code",
   "execution_count": 2,
   "metadata": {},
   "outputs": [
    {
     "name": "stdout",
     "output_type": "stream",
     "text": [
      "Collecting pandas\n",
      "  Downloading pandas-2.2.3-cp311-cp311-win_amd64.whl.metadata (19 kB)\n",
      "Requirement already satisfied: numpy>=1.23.2 in c:\\users\\sebastiancarmonaestr\\onedrive - dataknow s.a.s\\repositorios\\comfama\\exploración ai\\.venv\\lib\\site-packages (from pandas) (1.26.4)\n",
      "Requirement already satisfied: python-dateutil>=2.8.2 in c:\\users\\sebastiancarmonaestr\\onedrive - dataknow s.a.s\\repositorios\\comfama\\exploración ai\\.venv\\lib\\site-packages (from pandas) (2.9.0.post0)\n",
      "Collecting pytz>=2020.1 (from pandas)\n",
      "  Downloading pytz-2024.2-py2.py3-none-any.whl.metadata (22 kB)\n",
      "Collecting tzdata>=2022.7 (from pandas)\n",
      "  Downloading tzdata-2024.2-py2.py3-none-any.whl.metadata (1.4 kB)\n",
      "Requirement already satisfied: six>=1.5 in c:\\users\\sebastiancarmonaestr\\onedrive - dataknow s.a.s\\repositorios\\comfama\\exploración ai\\.venv\\lib\\site-packages (from python-dateutil>=2.8.2->pandas) (1.16.0)\n",
      "Downloading pandas-2.2.3-cp311-cp311-win_amd64.whl (11.6 MB)\n",
      "   ---------------------------------------- 0.0/11.6 MB ? eta -:--:--\n",
      "   ------------------ --------------------- 5.5/11.6 MB 30.5 MB/s eta 0:00:01\n",
      "   ---------------------------------------  11.5/11.6 MB 28.8 MB/s eta 0:00:01\n",
      "   ---------------------------------------  11.5/11.6 MB 28.8 MB/s eta 0:00:01\n",
      "   ---------------------------------------- 11.6/11.6 MB 16.9 MB/s eta 0:00:00\n",
      "Downloading pytz-2024.2-py2.py3-none-any.whl (508 kB)\n",
      "Downloading tzdata-2024.2-py2.py3-none-any.whl (346 kB)\n",
      "Installing collected packages: pytz, tzdata, pandas\n",
      "Successfully installed pandas-2.2.3 pytz-2024.2 tzdata-2024.2\n",
      "Note: you may need to restart the kernel to use updated packages.\n"
     ]
    }
   ],
   "source": [
    "%pip install pandas\n"
   ]
  }
 ],
 "metadata": {
  "kernelspec": {
   "display_name": "venv",
   "language": "python",
   "name": "python3"
  },
  "language_info": {
   "codemirror_mode": {
    "name": "ipython",
    "version": 3
   },
   "file_extension": ".py",
   "mimetype": "text/x-python",
   "name": "python",
   "nbconvert_exporter": "python",
   "pygments_lexer": "ipython3",
   "version": "3.11.8"
  }
 },
 "nbformat": 4,
 "nbformat_minor": 2
}
