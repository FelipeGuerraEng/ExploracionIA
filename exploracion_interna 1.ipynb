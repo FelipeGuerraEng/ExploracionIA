{
 "cells": [
  {
   "cell_type": "code",
   "execution_count": 3,
   "metadata": {},
   "outputs": [],
   "source": [
    "from azure.identity import DefaultAzureCredential\n",
    "from azure.storage.blob import BlobServiceClient\n",
    "import pandas as pd\n",
    "import pyarrow.parquet as pq\n",
    "from io import BytesIO\n",
    "from collections import defaultdict\n",
    "import os\n",
    "\n",
    "# Autenticación con Azure AD\n",
    "credential = DefaultAzureCredential()\n",
    "\n",
    "account_url = \"https://datalakecomfama.blob.core.windows.net\"\n",
    "blob_service_client = BlobServiceClient(account_url, credential=credential)\n",
    "\n",
    "# Acceder al contenedor y listar blobs\n",
    "container_client = blob_service_client.get_container_client(\"bronze\")\n",
    "blobs = container_client.list_blobs()\n",
    "\n",
    "#otal_files_count = sum(1 for blob in blobs)\n",
    "#print(f\"Total de archivos en el contenedor: {total_files_count}\")\n",
    "#for blob in blobs:\n",
    "    #print(blob.name)"
   ]
  },
  {
   "cell_type": "code",
   "execution_count": 4,
   "metadata": {},
   "outputs": [
    {
     "ename": "KeyboardInterrupt",
     "evalue": "",
     "output_type": "error",
     "traceback": [
      "\u001b[1;31m---------------------------------------------------------------------------\u001b[0m",
      "\u001b[1;31mKeyboardInterrupt\u001b[0m                         Traceback (most recent call last)",
      "Cell \u001b[1;32mIn[4], line 5\u001b[0m\n\u001b[0;32m      2\u001b[0m parquet_files_by_folder \u001b[38;5;241m=\u001b[39m defaultdict(\u001b[38;5;28mlist\u001b[39m)\n\u001b[0;32m      4\u001b[0m \u001b[38;5;66;03m# Filtrar y agrupar archivos Parquet\u001b[39;00m\n\u001b[1;32m----> 5\u001b[0m \u001b[38;5;28;43;01mfor\u001b[39;49;00m\u001b[43m \u001b[49m\u001b[43mblob\u001b[49m\u001b[43m \u001b[49m\u001b[38;5;129;43;01min\u001b[39;49;00m\u001b[43m \u001b[49m\u001b[43mblobs\u001b[49m\u001b[43m:\u001b[49m\n\u001b[0;32m      6\u001b[0m \u001b[43m    \u001b[49m\u001b[38;5;28;43;01mif\u001b[39;49;00m\u001b[43m \u001b[49m\u001b[43mblob\u001b[49m\u001b[38;5;241;43m.\u001b[39;49m\u001b[43mname\u001b[49m\u001b[38;5;241;43m.\u001b[39;49m\u001b[43mendswith\u001b[49m\u001b[43m(\u001b[49m\u001b[38;5;124;43m'\u001b[39;49m\u001b[38;5;124;43m.parquet\u001b[39;49m\u001b[38;5;124;43m'\u001b[39;49m\u001b[43m)\u001b[49m\u001b[43m:\u001b[49m\n\u001b[0;32m      7\u001b[0m \u001b[43m        \u001b[49m\u001b[38;5;66;43;03m# Obtener la ruta de la carpeta contenedora\u001b[39;49;00m\n\u001b[0;32m      8\u001b[0m \u001b[43m        \u001b[49m\u001b[43mfolder_path\u001b[49m\u001b[43m \u001b[49m\u001b[38;5;241;43m=\u001b[39;49m\u001b[43m \u001b[49m\u001b[43mos\u001b[49m\u001b[38;5;241;43m.\u001b[39;49m\u001b[43mpath\u001b[49m\u001b[38;5;241;43m.\u001b[39;49m\u001b[43mdirname\u001b[49m\u001b[43m(\u001b[49m\u001b[43mblob\u001b[49m\u001b[38;5;241;43m.\u001b[39;49m\u001b[43mname\u001b[49m\u001b[43m)\u001b[49m\n",
      "File \u001b[1;32mc:\\Users\\SebastianCarmonaEstr\\OneDrive - DATAKNOW S.A.S\\REPOSITORIOS\\Comfama\\Exploración AI\\.venv\\Lib\\site-packages\\azure\\core\\paging.py:123\u001b[0m, in \u001b[0;36mItemPaged.__next__\u001b[1;34m(self)\u001b[0m\n\u001b[0;32m    121\u001b[0m \u001b[38;5;28;01mif\u001b[39;00m \u001b[38;5;28mself\u001b[39m\u001b[38;5;241m.\u001b[39m_page_iterator \u001b[38;5;129;01mis\u001b[39;00m \u001b[38;5;28;01mNone\u001b[39;00m:\n\u001b[0;32m    122\u001b[0m     \u001b[38;5;28mself\u001b[39m\u001b[38;5;241m.\u001b[39m_page_iterator \u001b[38;5;241m=\u001b[39m itertools\u001b[38;5;241m.\u001b[39mchain\u001b[38;5;241m.\u001b[39mfrom_iterable(\u001b[38;5;28mself\u001b[39m\u001b[38;5;241m.\u001b[39mby_page())\n\u001b[1;32m--> 123\u001b[0m \u001b[38;5;28;01mreturn\u001b[39;00m \u001b[38;5;28mnext\u001b[39m(\u001b[38;5;28mself\u001b[39m\u001b[38;5;241m.\u001b[39m_page_iterator)\n",
      "File \u001b[1;32mc:\\Users\\SebastianCarmonaEstr\\OneDrive - DATAKNOW S.A.S\\REPOSITORIOS\\Comfama\\Exploración AI\\.venv\\Lib\\site-packages\\azure\\core\\paging.py:75\u001b[0m, in \u001b[0;36mPageIterator.__next__\u001b[1;34m(self)\u001b[0m\n\u001b[0;32m     73\u001b[0m     \u001b[38;5;28;01mraise\u001b[39;00m \u001b[38;5;167;01mStopIteration\u001b[39;00m(\u001b[38;5;124m\"\u001b[39m\u001b[38;5;124mEnd of paging\u001b[39m\u001b[38;5;124m\"\u001b[39m)\n\u001b[0;32m     74\u001b[0m \u001b[38;5;28;01mtry\u001b[39;00m:\n\u001b[1;32m---> 75\u001b[0m     \u001b[38;5;28mself\u001b[39m\u001b[38;5;241m.\u001b[39m_response \u001b[38;5;241m=\u001b[39m \u001b[38;5;28;43mself\u001b[39;49m\u001b[38;5;241;43m.\u001b[39;49m\u001b[43m_get_next\u001b[49m\u001b[43m(\u001b[49m\u001b[38;5;28;43mself\u001b[39;49m\u001b[38;5;241;43m.\u001b[39;49m\u001b[43mcontinuation_token\u001b[49m\u001b[43m)\u001b[49m\n\u001b[0;32m     76\u001b[0m \u001b[38;5;28;01mexcept\u001b[39;00m AzureError \u001b[38;5;28;01mas\u001b[39;00m error:\n\u001b[0;32m     77\u001b[0m     \u001b[38;5;28;01mif\u001b[39;00m \u001b[38;5;129;01mnot\u001b[39;00m error\u001b[38;5;241m.\u001b[39mcontinuation_token:\n",
      "File \u001b[1;32mc:\\Users\\SebastianCarmonaEstr\\OneDrive - DATAKNOW S.A.S\\REPOSITORIOS\\Comfama\\Exploración AI\\.venv\\Lib\\site-packages\\azure\\storage\\blob\\_list_blobs_helper.py:89\u001b[0m, in \u001b[0;36mBlobPropertiesPaged._get_next_cb\u001b[1;34m(self, continuation_token)\u001b[0m\n\u001b[0;32m     87\u001b[0m \u001b[38;5;28;01mdef\u001b[39;00m \u001b[38;5;21m_get_next_cb\u001b[39m(\u001b[38;5;28mself\u001b[39m, continuation_token):\n\u001b[0;32m     88\u001b[0m     \u001b[38;5;28;01mtry\u001b[39;00m:\n\u001b[1;32m---> 89\u001b[0m         \u001b[38;5;28;01mreturn\u001b[39;00m \u001b[38;5;28;43mself\u001b[39;49m\u001b[38;5;241;43m.\u001b[39;49m\u001b[43m_command\u001b[49m\u001b[43m(\u001b[49m\n\u001b[0;32m     90\u001b[0m \u001b[43m            \u001b[49m\u001b[43mprefix\u001b[49m\u001b[38;5;241;43m=\u001b[39;49m\u001b[38;5;28;43mself\u001b[39;49m\u001b[38;5;241;43m.\u001b[39;49m\u001b[43mprefix\u001b[49m\u001b[43m,\u001b[49m\n\u001b[0;32m     91\u001b[0m \u001b[43m            \u001b[49m\u001b[43mmarker\u001b[49m\u001b[38;5;241;43m=\u001b[39;49m\u001b[43mcontinuation_token\u001b[49m\u001b[43m \u001b[49m\u001b[38;5;129;43;01mor\u001b[39;49;00m\u001b[43m \u001b[49m\u001b[38;5;28;43;01mNone\u001b[39;49;00m\u001b[43m,\u001b[49m\n\u001b[0;32m     92\u001b[0m \u001b[43m            \u001b[49m\u001b[43mmaxresults\u001b[49m\u001b[38;5;241;43m=\u001b[39;49m\u001b[38;5;28;43mself\u001b[39;49m\u001b[38;5;241;43m.\u001b[39;49m\u001b[43mresults_per_page\u001b[49m\u001b[43m,\u001b[49m\n\u001b[0;32m     93\u001b[0m \u001b[43m            \u001b[49m\u001b[38;5;28;43mcls\u001b[39;49m\u001b[38;5;241;43m=\u001b[39;49m\u001b[43mreturn_context_and_deserialized\u001b[49m\u001b[43m,\u001b[49m\n\u001b[0;32m     94\u001b[0m \u001b[43m            \u001b[49m\u001b[43muse_location\u001b[49m\u001b[38;5;241;43m=\u001b[39;49m\u001b[38;5;28;43mself\u001b[39;49m\u001b[38;5;241;43m.\u001b[39;49m\u001b[43mlocation_mode\u001b[49m\u001b[43m)\u001b[49m\n\u001b[0;32m     95\u001b[0m     \u001b[38;5;28;01mexcept\u001b[39;00m HttpResponseError \u001b[38;5;28;01mas\u001b[39;00m error:\n\u001b[0;32m     96\u001b[0m         process_storage_error(error)\n",
      "File \u001b[1;32mc:\\Users\\SebastianCarmonaEstr\\OneDrive - DATAKNOW S.A.S\\REPOSITORIOS\\Comfama\\Exploración AI\\.venv\\Lib\\site-packages\\azure\\core\\tracing\\decorator.py:94\u001b[0m, in \u001b[0;36mdistributed_trace.<locals>.decorator.<locals>.wrapper_use_tracer\u001b[1;34m(*args, **kwargs)\u001b[0m\n\u001b[0;32m     92\u001b[0m span_impl_type \u001b[38;5;241m=\u001b[39m settings\u001b[38;5;241m.\u001b[39mtracing_implementation()\n\u001b[0;32m     93\u001b[0m \u001b[38;5;28;01mif\u001b[39;00m span_impl_type \u001b[38;5;129;01mis\u001b[39;00m \u001b[38;5;28;01mNone\u001b[39;00m:\n\u001b[1;32m---> 94\u001b[0m     \u001b[38;5;28;01mreturn\u001b[39;00m \u001b[43mfunc\u001b[49m\u001b[43m(\u001b[49m\u001b[38;5;241;43m*\u001b[39;49m\u001b[43margs\u001b[49m\u001b[43m,\u001b[49m\u001b[43m \u001b[49m\u001b[38;5;241;43m*\u001b[39;49m\u001b[38;5;241;43m*\u001b[39;49m\u001b[43mkwargs\u001b[49m\u001b[43m)\u001b[49m\n\u001b[0;32m     96\u001b[0m \u001b[38;5;66;03m# Merge span is parameter is set, but only if no explicit parent are passed\u001b[39;00m\n\u001b[0;32m     97\u001b[0m \u001b[38;5;28;01mif\u001b[39;00m merge_span \u001b[38;5;129;01mand\u001b[39;00m \u001b[38;5;129;01mnot\u001b[39;00m passed_in_parent:\n",
      "File \u001b[1;32mc:\\Users\\SebastianCarmonaEstr\\OneDrive - DATAKNOW S.A.S\\REPOSITORIOS\\Comfama\\Exploración AI\\.venv\\Lib\\site-packages\\azure\\storage\\blob\\_generated\\operations\\_container_operations.py:2439\u001b[0m, in \u001b[0;36mContainerOperations.list_blob_flat_segment\u001b[1;34m(self, prefix, marker, maxresults, include, timeout, request_id_parameter, **kwargs)\u001b[0m\n\u001b[0;32m   2436\u001b[0m response_headers[\u001b[38;5;124m\"\u001b[39m\u001b[38;5;124mx-ms-version\u001b[39m\u001b[38;5;124m\"\u001b[39m] \u001b[38;5;241m=\u001b[39m \u001b[38;5;28mself\u001b[39m\u001b[38;5;241m.\u001b[39m_deserialize(\u001b[38;5;124m\"\u001b[39m\u001b[38;5;124mstr\u001b[39m\u001b[38;5;124m\"\u001b[39m, response\u001b[38;5;241m.\u001b[39mheaders\u001b[38;5;241m.\u001b[39mget(\u001b[38;5;124m\"\u001b[39m\u001b[38;5;124mx-ms-version\u001b[39m\u001b[38;5;124m\"\u001b[39m))\n\u001b[0;32m   2437\u001b[0m response_headers[\u001b[38;5;124m\"\u001b[39m\u001b[38;5;124mDate\u001b[39m\u001b[38;5;124m\"\u001b[39m] \u001b[38;5;241m=\u001b[39m \u001b[38;5;28mself\u001b[39m\u001b[38;5;241m.\u001b[39m_deserialize(\u001b[38;5;124m\"\u001b[39m\u001b[38;5;124mrfc-1123\u001b[39m\u001b[38;5;124m\"\u001b[39m, response\u001b[38;5;241m.\u001b[39mheaders\u001b[38;5;241m.\u001b[39mget(\u001b[38;5;124m\"\u001b[39m\u001b[38;5;124mDate\u001b[39m\u001b[38;5;124m\"\u001b[39m))\n\u001b[1;32m-> 2439\u001b[0m deserialized \u001b[38;5;241m=\u001b[39m \u001b[38;5;28;43mself\u001b[39;49m\u001b[38;5;241;43m.\u001b[39;49m\u001b[43m_deserialize\u001b[49m\u001b[43m(\u001b[49m\u001b[38;5;124;43m\"\u001b[39;49m\u001b[38;5;124;43mListBlobsFlatSegmentResponse\u001b[39;49m\u001b[38;5;124;43m\"\u001b[39;49m\u001b[43m,\u001b[49m\u001b[43m \u001b[49m\u001b[43mpipeline_response\u001b[49m\u001b[38;5;241;43m.\u001b[39;49m\u001b[43mhttp_response\u001b[49m\u001b[43m)\u001b[49m\n\u001b[0;32m   2441\u001b[0m \u001b[38;5;28;01mif\u001b[39;00m \u001b[38;5;28mcls\u001b[39m:\n\u001b[0;32m   2442\u001b[0m     \u001b[38;5;28;01mreturn\u001b[39;00m \u001b[38;5;28mcls\u001b[39m(pipeline_response, deserialized, response_headers)  \u001b[38;5;66;03m# type: ignore\u001b[39;00m\n",
      "File \u001b[1;32mc:\\Users\\SebastianCarmonaEstr\\OneDrive - DATAKNOW S.A.S\\REPOSITORIOS\\Comfama\\Exploración AI\\.venv\\Lib\\site-packages\\azure\\storage\\blob\\_generated\\_serialization.py:1408\u001b[0m, in \u001b[0;36mDeserializer.__call__\u001b[1;34m(self, target_obj, response_data, content_type)\u001b[0m\n\u001b[0;32m   1399\u001b[0m \u001b[38;5;250m\u001b[39m\u001b[38;5;124;03m\"\"\"Call the deserializer to process a REST response.\u001b[39;00m\n\u001b[0;32m   1400\u001b[0m \n\u001b[0;32m   1401\u001b[0m \u001b[38;5;124;03m:param str target_obj: Target data type to deserialize to.\u001b[39;00m\n\u001b[1;32m   (...)\u001b[0m\n\u001b[0;32m   1405\u001b[0m \u001b[38;5;124;03m:return: Deserialized object.\u001b[39;00m\n\u001b[0;32m   1406\u001b[0m \u001b[38;5;124;03m\"\"\"\u001b[39;00m\n\u001b[0;32m   1407\u001b[0m data \u001b[38;5;241m=\u001b[39m \u001b[38;5;28mself\u001b[39m\u001b[38;5;241m.\u001b[39m_unpack_content(response_data, content_type)\n\u001b[1;32m-> 1408\u001b[0m \u001b[38;5;28;01mreturn\u001b[39;00m \u001b[38;5;28;43mself\u001b[39;49m\u001b[38;5;241;43m.\u001b[39;49m\u001b[43m_deserialize\u001b[49m\u001b[43m(\u001b[49m\u001b[43mtarget_obj\u001b[49m\u001b[43m,\u001b[49m\u001b[43m \u001b[49m\u001b[43mdata\u001b[49m\u001b[43m)\u001b[49m\n",
      "File \u001b[1;32mc:\\Users\\SebastianCarmonaEstr\\OneDrive - DATAKNOW S.A.S\\REPOSITORIOS\\Comfama\\Exploración AI\\.venv\\Lib\\site-packages\\azure\\storage\\blob\\_generated\\_serialization.py:1474\u001b[0m, in \u001b[0;36mDeserializer._deserialize\u001b[1;34m(self, target_obj, data)\u001b[0m\n\u001b[0;32m   1471\u001b[0m                     \u001b[38;5;28;01mcontinue\u001b[39;00m\n\u001b[0;32m   1472\u001b[0m                 raw_value \u001b[38;5;241m=\u001b[39m found_value\n\u001b[1;32m-> 1474\u001b[0m         value \u001b[38;5;241m=\u001b[39m \u001b[38;5;28;43mself\u001b[39;49m\u001b[38;5;241;43m.\u001b[39;49m\u001b[43mdeserialize_data\u001b[49m\u001b[43m(\u001b[49m\u001b[43mraw_value\u001b[49m\u001b[43m,\u001b[49m\u001b[43m \u001b[49m\u001b[43mattr_desc\u001b[49m\u001b[43m[\u001b[49m\u001b[38;5;124;43m\"\u001b[39;49m\u001b[38;5;124;43mtype\u001b[39;49m\u001b[38;5;124;43m\"\u001b[39;49m\u001b[43m]\u001b[49m\u001b[43m)\u001b[49m\n\u001b[0;32m   1475\u001b[0m         d_attrs[attr] \u001b[38;5;241m=\u001b[39m value\n\u001b[0;32m   1476\u001b[0m \u001b[38;5;28;01mexcept\u001b[39;00m (\u001b[38;5;167;01mAttributeError\u001b[39;00m, \u001b[38;5;167;01mTypeError\u001b[39;00m, \u001b[38;5;167;01mKeyError\u001b[39;00m) \u001b[38;5;28;01mas\u001b[39;00m err:\n",
      "File \u001b[1;32mc:\\Users\\SebastianCarmonaEstr\\OneDrive - DATAKNOW S.A.S\\REPOSITORIOS\\Comfama\\Exploración AI\\.venv\\Lib\\site-packages\\azure\\storage\\blob\\_generated\\_serialization.py:1651\u001b[0m, in \u001b[0;36mDeserializer.deserialize_data\u001b[1;34m(self, data, data_type)\u001b[0m\n\u001b[0;32m   1649\u001b[0m     \u001b[38;5;28;01mraise\u001b[39;00m DeserializationError(msg) \u001b[38;5;28;01mfrom\u001b[39;00m \u001b[38;5;21;01merr\u001b[39;00m\n\u001b[0;32m   1650\u001b[0m \u001b[38;5;28;01melse\u001b[39;00m:\n\u001b[1;32m-> 1651\u001b[0m     \u001b[38;5;28;01mreturn\u001b[39;00m \u001b[38;5;28;43mself\u001b[39;49m\u001b[38;5;241;43m.\u001b[39;49m\u001b[43m_deserialize\u001b[49m\u001b[43m(\u001b[49m\u001b[43mobj_type\u001b[49m\u001b[43m,\u001b[49m\u001b[43m \u001b[49m\u001b[43mdata\u001b[49m\u001b[43m)\u001b[49m\n",
      "File \u001b[1;32mc:\\Users\\SebastianCarmonaEstr\\OneDrive - DATAKNOW S.A.S\\REPOSITORIOS\\Comfama\\Exploración AI\\.venv\\Lib\\site-packages\\azure\\storage\\blob\\_generated\\_serialization.py:1474\u001b[0m, in \u001b[0;36mDeserializer._deserialize\u001b[1;34m(self, target_obj, data)\u001b[0m\n\u001b[0;32m   1471\u001b[0m                     \u001b[38;5;28;01mcontinue\u001b[39;00m\n\u001b[0;32m   1472\u001b[0m                 raw_value \u001b[38;5;241m=\u001b[39m found_value\n\u001b[1;32m-> 1474\u001b[0m         value \u001b[38;5;241m=\u001b[39m \u001b[38;5;28;43mself\u001b[39;49m\u001b[38;5;241;43m.\u001b[39;49m\u001b[43mdeserialize_data\u001b[49m\u001b[43m(\u001b[49m\u001b[43mraw_value\u001b[49m\u001b[43m,\u001b[49m\u001b[43m \u001b[49m\u001b[43mattr_desc\u001b[49m\u001b[43m[\u001b[49m\u001b[38;5;124;43m\"\u001b[39;49m\u001b[38;5;124;43mtype\u001b[39;49m\u001b[38;5;124;43m\"\u001b[39;49m\u001b[43m]\u001b[49m\u001b[43m)\u001b[49m\n\u001b[0;32m   1475\u001b[0m         d_attrs[attr] \u001b[38;5;241m=\u001b[39m value\n\u001b[0;32m   1476\u001b[0m \u001b[38;5;28;01mexcept\u001b[39;00m (\u001b[38;5;167;01mAttributeError\u001b[39;00m, \u001b[38;5;167;01mTypeError\u001b[39;00m, \u001b[38;5;167;01mKeyError\u001b[39;00m) \u001b[38;5;28;01mas\u001b[39;00m err:\n",
      "File \u001b[1;32mc:\\Users\\SebastianCarmonaEstr\\OneDrive - DATAKNOW S.A.S\\REPOSITORIOS\\Comfama\\Exploración AI\\.venv\\Lib\\site-packages\\azure\\storage\\blob\\_generated\\_serialization.py:1638\u001b[0m, in \u001b[0;36mDeserializer.deserialize_data\u001b[1;34m(self, data, data_type)\u001b[0m\n\u001b[0;32m   1636\u001b[0m iter_type \u001b[38;5;241m=\u001b[39m data_type[\u001b[38;5;241m0\u001b[39m] \u001b[38;5;241m+\u001b[39m data_type[\u001b[38;5;241m-\u001b[39m\u001b[38;5;241m1\u001b[39m]\n\u001b[0;32m   1637\u001b[0m \u001b[38;5;28;01mif\u001b[39;00m iter_type \u001b[38;5;129;01min\u001b[39;00m \u001b[38;5;28mself\u001b[39m\u001b[38;5;241m.\u001b[39mdeserialize_type:\n\u001b[1;32m-> 1638\u001b[0m     \u001b[38;5;28;01mreturn\u001b[39;00m \u001b[38;5;28;43mself\u001b[39;49m\u001b[38;5;241;43m.\u001b[39;49m\u001b[43mdeserialize_type\u001b[49m\u001b[43m[\u001b[49m\u001b[43miter_type\u001b[49m\u001b[43m]\u001b[49m\u001b[43m(\u001b[49m\u001b[43mdata\u001b[49m\u001b[43m,\u001b[49m\u001b[43m \u001b[49m\u001b[43mdata_type\u001b[49m\u001b[43m[\u001b[49m\u001b[38;5;241;43m1\u001b[39;49m\u001b[43m:\u001b[49m\u001b[38;5;241;43m-\u001b[39;49m\u001b[38;5;241;43m1\u001b[39;49m\u001b[43m]\u001b[49m\u001b[43m)\u001b[49m\n\u001b[0;32m   1640\u001b[0m obj_type \u001b[38;5;241m=\u001b[39m \u001b[38;5;28mself\u001b[39m\u001b[38;5;241m.\u001b[39mdependencies[data_type]\n\u001b[0;32m   1641\u001b[0m \u001b[38;5;28;01mif\u001b[39;00m \u001b[38;5;28missubclass\u001b[39m(obj_type, Enum):\n",
      "File \u001b[1;32mc:\\Users\\SebastianCarmonaEstr\\OneDrive - DATAKNOW S.A.S\\REPOSITORIOS\\Comfama\\Exploración AI\\.venv\\Lib\\site-packages\\azure\\storage\\blob\\_generated\\_serialization.py:1666\u001b[0m, in \u001b[0;36mDeserializer.deserialize_iter\u001b[1;34m(self, attr, iter_type)\u001b[0m\n\u001b[0;32m   1664\u001b[0m \u001b[38;5;28;01mif\u001b[39;00m \u001b[38;5;129;01mnot\u001b[39;00m \u001b[38;5;28misinstance\u001b[39m(attr, (\u001b[38;5;28mlist\u001b[39m, \u001b[38;5;28mset\u001b[39m)):\n\u001b[0;32m   1665\u001b[0m     \u001b[38;5;28;01mraise\u001b[39;00m DeserializationError(\u001b[38;5;124m\"\u001b[39m\u001b[38;5;124mCannot deserialize as [\u001b[39m\u001b[38;5;132;01m{}\u001b[39;00m\u001b[38;5;124m] an object of type \u001b[39m\u001b[38;5;132;01m{}\u001b[39;00m\u001b[38;5;124m\"\u001b[39m\u001b[38;5;241m.\u001b[39mformat(iter_type, \u001b[38;5;28mtype\u001b[39m(attr)))\n\u001b[1;32m-> 1666\u001b[0m \u001b[38;5;28;01mreturn\u001b[39;00m \u001b[43m[\u001b[49m\u001b[38;5;28;43mself\u001b[39;49m\u001b[38;5;241;43m.\u001b[39;49m\u001b[43mdeserialize_data\u001b[49m\u001b[43m(\u001b[49m\u001b[43ma\u001b[49m\u001b[43m,\u001b[49m\u001b[43m \u001b[49m\u001b[43miter_type\u001b[49m\u001b[43m)\u001b[49m\u001b[43m \u001b[49m\u001b[38;5;28;43;01mfor\u001b[39;49;00m\u001b[43m \u001b[49m\u001b[43ma\u001b[49m\u001b[43m \u001b[49m\u001b[38;5;129;43;01min\u001b[39;49;00m\u001b[43m \u001b[49m\u001b[43mattr\u001b[49m\u001b[43m]\u001b[49m\n",
      "File \u001b[1;32mc:\\Users\\SebastianCarmonaEstr\\OneDrive - DATAKNOW S.A.S\\REPOSITORIOS\\Comfama\\Exploración AI\\.venv\\Lib\\site-packages\\azure\\storage\\blob\\_generated\\_serialization.py:1666\u001b[0m, in \u001b[0;36m<listcomp>\u001b[1;34m(.0)\u001b[0m\n\u001b[0;32m   1664\u001b[0m \u001b[38;5;28;01mif\u001b[39;00m \u001b[38;5;129;01mnot\u001b[39;00m \u001b[38;5;28misinstance\u001b[39m(attr, (\u001b[38;5;28mlist\u001b[39m, \u001b[38;5;28mset\u001b[39m)):\n\u001b[0;32m   1665\u001b[0m     \u001b[38;5;28;01mraise\u001b[39;00m DeserializationError(\u001b[38;5;124m\"\u001b[39m\u001b[38;5;124mCannot deserialize as [\u001b[39m\u001b[38;5;132;01m{}\u001b[39;00m\u001b[38;5;124m] an object of type \u001b[39m\u001b[38;5;132;01m{}\u001b[39;00m\u001b[38;5;124m\"\u001b[39m\u001b[38;5;241m.\u001b[39mformat(iter_type, \u001b[38;5;28mtype\u001b[39m(attr)))\n\u001b[1;32m-> 1666\u001b[0m \u001b[38;5;28;01mreturn\u001b[39;00m [\u001b[38;5;28;43mself\u001b[39;49m\u001b[38;5;241;43m.\u001b[39;49m\u001b[43mdeserialize_data\u001b[49m\u001b[43m(\u001b[49m\u001b[43ma\u001b[49m\u001b[43m,\u001b[49m\u001b[43m \u001b[49m\u001b[43miter_type\u001b[49m\u001b[43m)\u001b[49m \u001b[38;5;28;01mfor\u001b[39;00m a \u001b[38;5;129;01min\u001b[39;00m attr]\n",
      "File \u001b[1;32mc:\\Users\\SebastianCarmonaEstr\\OneDrive - DATAKNOW S.A.S\\REPOSITORIOS\\Comfama\\Exploración AI\\.venv\\Lib\\site-packages\\azure\\storage\\blob\\_generated\\_serialization.py:1651\u001b[0m, in \u001b[0;36mDeserializer.deserialize_data\u001b[1;34m(self, data, data_type)\u001b[0m\n\u001b[0;32m   1649\u001b[0m     \u001b[38;5;28;01mraise\u001b[39;00m DeserializationError(msg) \u001b[38;5;28;01mfrom\u001b[39;00m \u001b[38;5;21;01merr\u001b[39;00m\n\u001b[0;32m   1650\u001b[0m \u001b[38;5;28;01melse\u001b[39;00m:\n\u001b[1;32m-> 1651\u001b[0m     \u001b[38;5;28;01mreturn\u001b[39;00m \u001b[38;5;28;43mself\u001b[39;49m\u001b[38;5;241;43m.\u001b[39;49m\u001b[43m_deserialize\u001b[49m\u001b[43m(\u001b[49m\u001b[43mobj_type\u001b[49m\u001b[43m,\u001b[49m\u001b[43m \u001b[49m\u001b[43mdata\u001b[49m\u001b[43m)\u001b[49m\n",
      "File \u001b[1;32mc:\\Users\\SebastianCarmonaEstr\\OneDrive - DATAKNOW S.A.S\\REPOSITORIOS\\Comfama\\Exploración AI\\.venv\\Lib\\site-packages\\azure\\storage\\blob\\_generated\\_serialization.py:1474\u001b[0m, in \u001b[0;36mDeserializer._deserialize\u001b[1;34m(self, target_obj, data)\u001b[0m\n\u001b[0;32m   1471\u001b[0m                     \u001b[38;5;28;01mcontinue\u001b[39;00m\n\u001b[0;32m   1472\u001b[0m                 raw_value \u001b[38;5;241m=\u001b[39m found_value\n\u001b[1;32m-> 1474\u001b[0m         value \u001b[38;5;241m=\u001b[39m \u001b[38;5;28;43mself\u001b[39;49m\u001b[38;5;241;43m.\u001b[39;49m\u001b[43mdeserialize_data\u001b[49m\u001b[43m(\u001b[49m\u001b[43mraw_value\u001b[49m\u001b[43m,\u001b[49m\u001b[43m \u001b[49m\u001b[43mattr_desc\u001b[49m\u001b[43m[\u001b[49m\u001b[38;5;124;43m\"\u001b[39;49m\u001b[38;5;124;43mtype\u001b[39;49m\u001b[38;5;124;43m\"\u001b[39;49m\u001b[43m]\u001b[49m\u001b[43m)\u001b[49m\n\u001b[0;32m   1475\u001b[0m         d_attrs[attr] \u001b[38;5;241m=\u001b[39m value\n\u001b[0;32m   1476\u001b[0m \u001b[38;5;28;01mexcept\u001b[39;00m (\u001b[38;5;167;01mAttributeError\u001b[39;00m, \u001b[38;5;167;01mTypeError\u001b[39;00m, \u001b[38;5;167;01mKeyError\u001b[39;00m) \u001b[38;5;28;01mas\u001b[39;00m err:\n",
      "File \u001b[1;32mc:\\Users\\SebastianCarmonaEstr\\OneDrive - DATAKNOW S.A.S\\REPOSITORIOS\\Comfama\\Exploración AI\\.venv\\Lib\\site-packages\\azure\\storage\\blob\\_generated\\_serialization.py:1651\u001b[0m, in \u001b[0;36mDeserializer.deserialize_data\u001b[1;34m(self, data, data_type)\u001b[0m\n\u001b[0;32m   1649\u001b[0m     \u001b[38;5;28;01mraise\u001b[39;00m DeserializationError(msg) \u001b[38;5;28;01mfrom\u001b[39;00m \u001b[38;5;21;01merr\u001b[39;00m\n\u001b[0;32m   1650\u001b[0m \u001b[38;5;28;01melse\u001b[39;00m:\n\u001b[1;32m-> 1651\u001b[0m     \u001b[38;5;28;01mreturn\u001b[39;00m \u001b[38;5;28;43mself\u001b[39;49m\u001b[38;5;241;43m.\u001b[39;49m\u001b[43m_deserialize\u001b[49m\u001b[43m(\u001b[49m\u001b[43mobj_type\u001b[49m\u001b[43m,\u001b[49m\u001b[43m \u001b[49m\u001b[43mdata\u001b[49m\u001b[43m)\u001b[49m\n",
      "File \u001b[1;32mc:\\Users\\SebastianCarmonaEstr\\OneDrive - DATAKNOW S.A.S\\REPOSITORIOS\\Comfama\\Exploración AI\\.venv\\Lib\\site-packages\\azure\\storage\\blob\\_generated\\_serialization.py:1481\u001b[0m, in \u001b[0;36mDeserializer._deserialize\u001b[1;34m(self, target_obj, data)\u001b[0m\n\u001b[0;32m   1479\u001b[0m \u001b[38;5;28;01melse\u001b[39;00m:\n\u001b[0;32m   1480\u001b[0m     additional_properties \u001b[38;5;241m=\u001b[39m \u001b[38;5;28mself\u001b[39m\u001b[38;5;241m.\u001b[39m_build_additional_properties(attributes, data)\n\u001b[1;32m-> 1481\u001b[0m     \u001b[38;5;28;01mreturn\u001b[39;00m \u001b[38;5;28;43mself\u001b[39;49m\u001b[38;5;241;43m.\u001b[39;49m\u001b[43m_instantiate_model\u001b[49m\u001b[43m(\u001b[49m\u001b[43mresponse\u001b[49m\u001b[43m,\u001b[49m\u001b[43m \u001b[49m\u001b[43md_attrs\u001b[49m\u001b[43m,\u001b[49m\u001b[43m \u001b[49m\u001b[43madditional_properties\u001b[49m\u001b[43m)\u001b[49m\n",
      "File \u001b[1;32mc:\\Users\\SebastianCarmonaEstr\\OneDrive - DATAKNOW S.A.S\\REPOSITORIOS\\Comfama\\Exploración AI\\.venv\\Lib\\site-packages\\azure\\storage\\blob\\_generated\\_serialization.py:1590\u001b[0m, in \u001b[0;36mDeserializer._instantiate_model\u001b[1;34m(self, response, attrs, additional_properties)\u001b[0m\n\u001b[0;32m   1588\u001b[0m readonly \u001b[38;5;241m=\u001b[39m [k \u001b[38;5;28;01mfor\u001b[39;00m k, v \u001b[38;5;129;01min\u001b[39;00m response\u001b[38;5;241m.\u001b[39m_validation\u001b[38;5;241m.\u001b[39mitems() \u001b[38;5;28;01mif\u001b[39;00m v\u001b[38;5;241m.\u001b[39mget(\u001b[38;5;124m\"\u001b[39m\u001b[38;5;124mreadonly\u001b[39m\u001b[38;5;124m\"\u001b[39m)]\n\u001b[0;32m   1589\u001b[0m const \u001b[38;5;241m=\u001b[39m [k \u001b[38;5;28;01mfor\u001b[39;00m k, v \u001b[38;5;129;01min\u001b[39;00m response\u001b[38;5;241m.\u001b[39m_validation\u001b[38;5;241m.\u001b[39mitems() \u001b[38;5;28;01mif\u001b[39;00m v\u001b[38;5;241m.\u001b[39mget(\u001b[38;5;124m\"\u001b[39m\u001b[38;5;124mconstant\u001b[39m\u001b[38;5;124m\"\u001b[39m)]\n\u001b[1;32m-> 1590\u001b[0m kwargs \u001b[38;5;241m=\u001b[39m \u001b[43m{\u001b[49m\u001b[43mk\u001b[49m\u001b[43m:\u001b[49m\u001b[43m \u001b[49m\u001b[43mv\u001b[49m\u001b[43m \u001b[49m\u001b[38;5;28;43;01mfor\u001b[39;49;00m\u001b[43m \u001b[49m\u001b[43mk\u001b[49m\u001b[43m,\u001b[49m\u001b[43m \u001b[49m\u001b[43mv\u001b[49m\u001b[43m \u001b[49m\u001b[38;5;129;43;01min\u001b[39;49;00m\u001b[43m \u001b[49m\u001b[43mattrs\u001b[49m\u001b[38;5;241;43m.\u001b[39;49m\u001b[43mitems\u001b[49m\u001b[43m(\u001b[49m\u001b[43m)\u001b[49m\u001b[43m \u001b[49m\u001b[38;5;28;43;01mif\u001b[39;49;00m\u001b[43m \u001b[49m\u001b[43mk\u001b[49m\u001b[43m \u001b[49m\u001b[38;5;129;43;01mnot\u001b[39;49;00m\u001b[43m \u001b[49m\u001b[38;5;129;43;01min\u001b[39;49;00m\u001b[43m \u001b[49m\u001b[43msubtype\u001b[49m\u001b[43m \u001b[49m\u001b[38;5;129;43;01mand\u001b[39;49;00m\u001b[43m \u001b[49m\u001b[43mk\u001b[49m\u001b[43m \u001b[49m\u001b[38;5;129;43;01mnot\u001b[39;49;00m\u001b[43m \u001b[49m\u001b[38;5;129;43;01min\u001b[39;49;00m\u001b[43m \u001b[49m\u001b[43mreadonly\u001b[49m\u001b[43m \u001b[49m\u001b[38;5;241;43m+\u001b[39;49m\u001b[43m \u001b[49m\u001b[43mconst\u001b[49m\u001b[43m}\u001b[49m\n\u001b[0;32m   1591\u001b[0m response_obj \u001b[38;5;241m=\u001b[39m response(\u001b[38;5;241m*\u001b[39m\u001b[38;5;241m*\u001b[39mkwargs)\n\u001b[0;32m   1592\u001b[0m \u001b[38;5;28;01mfor\u001b[39;00m attr \u001b[38;5;129;01min\u001b[39;00m readonly:\n",
      "File \u001b[1;32mc:\\Users\\SebastianCarmonaEstr\\OneDrive - DATAKNOW S.A.S\\REPOSITORIOS\\Comfama\\Exploración AI\\.venv\\Lib\\site-packages\\azure\\storage\\blob\\_generated\\_serialization.py:1590\u001b[0m, in \u001b[0;36m<dictcomp>\u001b[1;34m(.0)\u001b[0m\n\u001b[0;32m   1588\u001b[0m readonly \u001b[38;5;241m=\u001b[39m [k \u001b[38;5;28;01mfor\u001b[39;00m k, v \u001b[38;5;129;01min\u001b[39;00m response\u001b[38;5;241m.\u001b[39m_validation\u001b[38;5;241m.\u001b[39mitems() \u001b[38;5;28;01mif\u001b[39;00m v\u001b[38;5;241m.\u001b[39mget(\u001b[38;5;124m\"\u001b[39m\u001b[38;5;124mreadonly\u001b[39m\u001b[38;5;124m\"\u001b[39m)]\n\u001b[0;32m   1589\u001b[0m const \u001b[38;5;241m=\u001b[39m [k \u001b[38;5;28;01mfor\u001b[39;00m k, v \u001b[38;5;129;01min\u001b[39;00m response\u001b[38;5;241m.\u001b[39m_validation\u001b[38;5;241m.\u001b[39mitems() \u001b[38;5;28;01mif\u001b[39;00m v\u001b[38;5;241m.\u001b[39mget(\u001b[38;5;124m\"\u001b[39m\u001b[38;5;124mconstant\u001b[39m\u001b[38;5;124m\"\u001b[39m)]\n\u001b[1;32m-> 1590\u001b[0m kwargs \u001b[38;5;241m=\u001b[39m {k: v \u001b[38;5;28;01mfor\u001b[39;00m k, v \u001b[38;5;129;01min\u001b[39;00m attrs\u001b[38;5;241m.\u001b[39mitems() \u001b[38;5;28;01mif\u001b[39;00m k \u001b[38;5;129;01mnot\u001b[39;00m \u001b[38;5;129;01min\u001b[39;00m subtype \u001b[38;5;129;01mand\u001b[39;00m k \u001b[38;5;129;01mnot\u001b[39;00m \u001b[38;5;129;01min\u001b[39;00m readonly \u001b[38;5;241m+\u001b[39m const}\n\u001b[0;32m   1591\u001b[0m response_obj \u001b[38;5;241m=\u001b[39m response(\u001b[38;5;241m*\u001b[39m\u001b[38;5;241m*\u001b[39mkwargs)\n\u001b[0;32m   1592\u001b[0m \u001b[38;5;28;01mfor\u001b[39;00m attr \u001b[38;5;129;01min\u001b[39;00m readonly:\n",
      "\u001b[1;31mKeyboardInterrupt\u001b[0m: "
     ]
    }
   ],
   "source": [
    "# Inicializar un diccionario para agrupar archivos Parquet por carpeta\n",
    "parquet_files_by_folder = defaultdict(list)\n",
    "\n",
    "# Filtrar y agrupar archivos Parquet\n",
    "for blob in blobs:\n",
    "    if blob.name.endswith('.parquet'):\n",
    "        # Obtener la ruta de la carpeta contenedora\n",
    "        folder_path = os.path.dirname(blob.name)\n",
    "        parquet_files_by_folder[folder_path].append(blob.name)\n",
    "\n",
    "# Recopilar variables de cada carpeta\n",
    "variables_por_carpeta = {}\n",
    "\n",
    "for folder, files in parquet_files_by_folder.items():\n",
    "    # Leer solo el primer archivo Parquet de la carpeta\n",
    "    first_parquet_file = files[0]\n",
    "    blob_client = container_client.get_blob_client(first_parquet_file)\n",
    "    \n",
    "    # Descargar el archivo Parquet en memoria\n",
    "    parquet_data = blob_client.download_blob().readall()\n",
    "    \n",
    "    # Leer el esquema del archivo Parquet\n",
    "    parquet_file = pq.ParquetFile(BytesIO(parquet_data))\n",
    "    schema = parquet_file.schema\n",
    "    \n",
    "    # Obtener la lista de variables (columnas)\n",
    "    variables = schema.names\n",
    "    \n",
    "    # Guardar las variables en el diccionario\n",
    "    variables_por_carpeta[folder] = variables"
   ]
  },
  {
   "cell_type": "code",
   "execution_count": null,
   "metadata": {},
   "outputs": [],
   "source": [
    "# Guardar las variables en un archivo de texto\n",
    "with open('variables_por_carpeta.txt', 'w', encoding='utf-8') as f:\n",
    "    for folder, variables in variables_por_carpeta.items():\n",
    "        f.write(f\"Variables en la carpeta '{folder}':\\n\")\n",
    "        for var in variables:\n",
    "            f.write(f\" - {var}\\n\")\n",
    "        f.write(\"\\n\")\n",
    "\n",
    "print(\"Las variables por carpeta han sido guardadas en 'variables_por_carpeta.txt'\")"
   ]
  },
  {
   "cell_type": "code",
   "execution_count": 5,
   "metadata": {},
   "outputs": [],
   "source": [
    "# Inicializar un diccionario para agrupar archivos Parquet por carpeta\n",
    "parquet_files_by_folder = defaultdict(list)\n",
    "\n",
    "# Filtrar y agrupar archivos Parquet\n",
    "for blob in blobs:\n",
    "    if blob.name.endswith('.parquet'):\n",
    "        # Obtener la ruta de la carpeta contenedora\n",
    "        folder_path = os.path.dirname(blob.name)\n",
    "        parquet_files_by_folder[folder_path].append(blob.name)\n",
    "\n",
    "\n",
    "#Mpstrar contenido del primer parquet de una carpeta en específico\n",
    "carpeta_especifica = \"Salud_Continua/tratamiento\" \n",
    "if carpeta_especifica in parquet_files_by_folder:\n",
    "    first_parquet_file = parquet_files_by_folder[carpeta_especifica][0] \n",
    "    blob_client = container_client.get_blob_client(first_parquet_file)\n",
    "    \n",
    "    # Descargar el archivo Parquet en memoria\n",
    "    parquet_data = blob_client.download_blob().readall()\n",
    "    \n",
    "    # Leer el archivo Parquet en un DataFrame\n",
    "    parquet_buffer = BytesIO(parquet_data)\n",
    "    df = pd.read_parquet(parquet_buffer)"
   ]
  },
  {
   "cell_type": "code",
   "execution_count": 6,
   "metadata": {},
   "outputs": [
    {
     "data": {
      "text/html": [
       "<div>\n",
       "<style scoped>\n",
       "    .dataframe tbody tr th:only-of-type {\n",
       "        vertical-align: middle;\n",
       "    }\n",
       "\n",
       "    .dataframe tbody tr th {\n",
       "        vertical-align: top;\n",
       "    }\n",
       "\n",
       "    .dataframe thead th {\n",
       "        text-align: right;\n",
       "    }\n",
       "</style>\n",
       "<table border=\"1\" class=\"dataframe\">\n",
       "  <thead>\n",
       "    <tr style=\"text-align: right;\">\n",
       "      <th></th>\n",
       "      <th>tratamiento_id</th>\n",
       "      <th>usuario_id</th>\n",
       "      <th>fecha_creacion</th>\n",
       "      <th>creado_por</th>\n",
       "      <th>fecha_actualizacion</th>\n",
       "      <th>modificado_por</th>\n",
       "      <th>tipo_diabetes</th>\n",
       "      <th>requiere_insulina</th>\n",
       "      <th>frecuencia_inyeccion_insulina</th>\n",
       "      <th>puntaje_findrisc_diabetes</th>\n",
       "      <th>...</th>\n",
       "      <th>estado_ultimos_quince_dias</th>\n",
       "      <th>fecha_ultimo_examen_inr</th>\n",
       "      <th>fecha_interaccion</th>\n",
       "      <th>atendido_por</th>\n",
       "      <th>canal_contacto</th>\n",
       "      <th>condicion_usuario</th>\n",
       "      <th>tipo_interaccion</th>\n",
       "      <th>linea</th>\n",
       "      <th>gestion_realizada</th>\n",
       "      <th>fecha_ultimo_control_rcv</th>\n",
       "    </tr>\n",
       "  </thead>\n",
       "  <tbody>\n",
       "  </tbody>\n",
       "</table>\n",
       "<p>0 rows × 40 columns</p>\n",
       "</div>"
      ],
      "text/plain": [
       "Empty DataFrame\n",
       "Columns: [tratamiento_id, usuario_id, fecha_creacion, creado_por, fecha_actualizacion, modificado_por, tipo_diabetes, requiere_insulina, frecuencia_inyeccion_insulina, puntaje_findrisc_diabetes, peso, estatura, imc, hemoglobina_glicada, ultimo_control_rcv, lapso_ultimo_examen, hospitalizacion_reciente, urgencias_reciente, presion_sistolica, presion_diastolica, frecuencia_actividad, glucometro, tensiometro, tiempo_actividad, humo_cigarrillo, objetivos, resultado_inr, resultado_inr_ultimo_mes, nombre_anticoagulante, sintoma_inr, estado_ultimos_quince_dias, fecha_ultimo_examen_inr, fecha_interaccion, atendido_por, canal_contacto, condicion_usuario, tipo_interaccion, linea, gestion_realizada, fecha_ultimo_control_rcv]\n",
       "Index: []\n",
       "\n",
       "[0 rows x 40 columns]"
      ]
     },
     "metadata": {},
     "output_type": "display_data"
    }
   ],
   "source": [
    " display(df)"
   ]
  },
  {
   "cell_type": "code",
   "execution_count": null,
   "metadata": {},
   "outputs": [],
   "source": [
    "pd.set_option('display.max_rows', None) \n",
    "display(df['glicemia'])"
   ]
  }
 ],
 "metadata": {
  "kernelspec": {
   "display_name": "venv",
   "language": "python",
   "name": "python3"
  },
  "language_info": {
   "codemirror_mode": {
    "name": "ipython",
    "version": 3
   },
   "file_extension": ".py",
   "mimetype": "text/x-python",
   "name": "python",
   "nbconvert_exporter": "python",
   "pygments_lexer": "ipython3",
   "version": "3.11.8"
  }
 },
 "nbformat": 4,
 "nbformat_minor": 2
}
